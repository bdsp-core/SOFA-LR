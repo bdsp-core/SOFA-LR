{
 "cells": [
  {
   "cell_type": "code",
   "execution_count": 11,
   "id": "c964852c",
   "metadata": {},
   "outputs": [],
   "source": [
    "# run pre-trained SOFA-LR model\n",
    "# Load model (2 stages)\n",
    "import joblib\n",
    "import pandas as pd\n",
    "import numpy as np\n",
    "from scipy.stats import zscore\n",
    "\n",
    "clf0 = joblib.load('LR_model.pkl')\n",
    "clf_cal = joblib.load('LR_model_cal.pkl')"
   ]
  },
  {
   "cell_type": "code",
   "execution_count": 12,
   "id": "45af9fd9",
   "metadata": {},
   "outputs": [],
   "source": [
    "# load some data and prepare it for the model\n",
    "df = pd.read_csv(\"Xdata_non.csv\")\n",
    "df = df.iloc[:,1:]\n",
    "df = df.loc[:, ['Age', 'SexDSC', 'GCS', 'PaO2_FiO2',\n",
    "       'mech_vent_cpap', 'Total_Bilirubin_mg_per_dL', 'Platelets_10_3_per_ml',\n",
    "       'Creatinine_mg_per_dL', 'Urine_output_mL', 'MAP', 'Dobutamine_any_dose',\n",
    "       'Dopamine_μg_kg_min', 'Epinephrine_μg_kg_min',\n",
    "       'Norepinephrine_μg_kg_min']]\n",
    "\n",
    "isnan_df = np.isnan(df)\n",
    "\n",
    "# concatenate the arrays to have pairs of cols to show which are missing.\n",
    "X = pd.DataFrame(np.concatenate((df.loc[:, ['Age', 'SexDSC', 'GCS', 'PaO2_FiO2',\n",
    "       'mech_vent_cpap', 'Total_Bilirubin_mg_per_dL', 'Platelets_10_3_per_ml',\n",
    "       'Creatinine_mg_per_dL', 'Urine_output_mL', 'MAP', 'Dobutamine_any_dose',\n",
    "       'Dopamine_μg_kg_min', 'Epinephrine_μg_kg_min',\n",
    "       'Norepinephrine_μg_kg_min']].to_numpy(), isnan_df[[\"GCS\", \"PaO2_FiO2\", \"Total_Bilirubin_mg_per_dL\", \"Platelets_10_3_per_ml\", \"Creatinine_mg_per_dL\", \"Urine_output_mL\", \"MAP\"]].to_numpy()), axis = 1))\n",
    "X = X.fillna(0)\n",
    "x = X.iloc[:,0]\n",
    "\n",
    "# normalize columns of X\n",
    "X_norm = X.apply(zscore)\n",
    "X_norm = np.array(X_norm,dtype='float')"
   ]
  },
  {
   "cell_type": "code",
   "execution_count": 13,
   "id": "cd91ad86",
   "metadata": {},
   "outputs": [],
   "source": [
    "# function that prepares the data for calibration of the model\n",
    "def prepareDataForCalibration(pred):\n",
    "    z1 = np.zeros_like(pred) \n",
    "    z2 = np.zeros_like(pred)\n",
    "    z3 = np.zeros_like(pred)\n",
    "    z4 = np.zeros_like(pred)\n",
    "    z5 = np.zeros_like(pred)\n",
    "\n",
    "    logits = np.log(pred/(1-pred))\n",
    "    m_train = np.mean(logits)\n",
    "    sd_train = np.std(logits) \n",
    "    logits = (logits - m_train) / sd_train\n",
    "\n",
    "    mask1 = pred<0.2\n",
    "    mask2 = (pred>0.2)*(pred<0.4)\n",
    "    mask3 = (pred>0.4)*(pred<0.6)\n",
    "    mask4 = (pred>0.6)*(pred<0.8)\n",
    "    mask5 = pred>0.8\n",
    "\n",
    "    z1[mask1] = logits[mask1]  \n",
    "    z2[mask2] = logits[mask2]\n",
    "    z3[mask3] = logits[mask3]  \n",
    "    z4[mask4] = logits[mask4]\n",
    "    z5[mask5] = logits[mask5]\n",
    "    \n",
    "    z = np.concatenate([z1[:,None], z2[:,None], z3[:,None], z4[:,None], z5[:,None]], axis=1) \n",
    "    \n",
    "    return logits, z"
   ]
  },
  {
   "cell_type": "code",
   "execution_count": 14,
   "id": "b567bb39",
   "metadata": {},
   "outputs": [],
   "source": [
    "# run the 2-stage model to get predictions\n",
    "pred1 = clf0.predict_proba(X_norm)[::,1]\n",
    "logits, z = prepareDataForCalibration(pred1)\n",
    "pred2 = clf_cal.predict_proba(z)\n",
    "# note: output has 2 columns. col1 is prob(death), col2 is prob(survive)"
   ]
  }
 ],
 "metadata": {
  "kernelspec": {
   "display_name": "Python 3 (ipykernel)",
   "language": "python",
   "name": "python3"
  },
  "language_info": {
   "codemirror_mode": {
    "name": "ipython",
    "version": 3
   },
   "file_extension": ".py",
   "mimetype": "text/x-python",
   "name": "python",
   "nbconvert_exporter": "python",
   "pygments_lexer": "ipython3",
   "version": "3.7.0"
  }
 },
 "nbformat": 4,
 "nbformat_minor": 5
}
